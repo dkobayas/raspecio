{
 "cells": [
  {
   "cell_type": "code",
   "execution_count": 1,
   "id": "60d039ea-2921-4fb9-985a-22832e322a3c",
   "metadata": {},
   "outputs": [],
   "source": [
    "from raspecio import basic\n",
    "from multiprocessing import Process\n",
    "import matplotlib.pyplot as plt"
   ]
  },
  {
   "cell_type": "code",
   "execution_count": 2,
   "id": "4ad67df6",
   "metadata": {},
   "outputs": [],
   "source": [
    "def led_blink_GPIO12():\n",
    "    for i in range(100):\n",
    "        basic.blink(pin_id=12, on_time=(100-i)*100, off_time=i*100, n_cycles=4, unit=\"usec\")\n",
    "    for i in range(100):\n",
    "        basic.blink(pin_id=12, on_time=i*100, off_time=(100-i)*100, n_cycles=4, unit=\"usec\")\n",
    "    for i in range(100):\n",
    "        basic.blink(pin_id=12, on_time=(100-i)*100, off_time=i*100, n_cycles=2, unit=\"usec\")"
   ]
  },
  {
   "cell_type": "code",
   "execution_count": 3,
   "id": "e3c9e047-64df-4c09-86eb-f8dda38b88e4",
   "metadata": {},
   "outputs": [],
   "source": [
    "def led_blink_GPIO13():\n",
    "    for i in range(100):\n",
    "        basic.blink(pin_id=13, on_time=(100-i)*100, off_time=i*100, n_cycles=10, unit=\"usec\")"
   ]
  },
  {
   "cell_type": "code",
   "execution_count": 4,
   "id": "39754da1-facf-4d7b-a521-a967c90b6350",
   "metadata": {},
   "outputs": [],
   "source": [
    "t1=Process(target=led_blink_GPIO12)\n",
    "t2=Process(target=led_blink_GPIO13)\n",
    "t1.start()\n",
    "t2.start()\n",
    "t1.join()\n",
    "t2.join()"
   ]
  },
  {
   "cell_type": "code",
   "execution_count": 5,
   "id": "fda4e186-f884-46a8-aaa3-9d195e638858",
   "metadata": {},
   "outputs": [],
   "source": [
    "from raspecio import adc"
   ]
  },
  {
   "cell_type": "code",
   "execution_count": 6,
   "id": "06552ae9-1967-418d-9ef8-9ad53cf689ed",
   "metadata": {},
   "outputs": [],
   "source": [
    "module = adc.MCP3204(spi_num=0)"
   ]
  },
  {
   "cell_type": "code",
   "execution_count": 31,
   "id": "3034198e-d721-474a-9bd6-3925ac65c96a",
   "metadata": {},
   "outputs": [
    {
     "data": {
      "text/html": [
       "<div><style>\n",
       ".dataframe > thead > tr,\n",
       ".dataframe > tbody > tr {\n",
       "  text-align: right;\n",
       "  white-space: pre-wrap;\n",
       "}\n",
       "</style>\n",
       "<small>shape: (100, 5)</small><table border=\"1\" class=\"dataframe\"><thead><tr><th>Time(sec)</th><th>CH1</th><th>CH2</th><th>CH3</th><th>CH4</th></tr><tr><td>f64</td><td>f64</td><td>f64</td><td>f64</td><td>f64</td></tr></thead><tbody><tr><td>0.0</td><td>2934.0</td><td>0.0</td><td>2476.0</td><td>3365.0</td></tr><tr><td>0.0</td><td>2911.0</td><td>0.0</td><td>3073.0</td><td>3289.0</td></tr><tr><td>0.0</td><td>2930.0</td><td>0.0</td><td>3209.0</td><td>3321.0</td></tr><tr><td>0.0</td><td>2917.0</td><td>0.0</td><td>3587.0</td><td>3209.0</td></tr><tr><td>0.0</td><td>2917.0</td><td>0.0</td><td>3959.0</td><td>3241.0</td></tr><tr><td>&hellip;</td><td>&hellip;</td><td>&hellip;</td><td>&hellip;</td><td>&hellip;</td></tr><tr><td>0.0</td><td>2909.0</td><td>0.0</td><td>2810.0</td><td>3587.0</td></tr><tr><td>0.0</td><td>2921.0</td><td>0.0</td><td>476.0</td><td>3587.0</td></tr><tr><td>0.0</td><td>2932.0</td><td>0.0</td><td>216.0</td><td>3619.0</td></tr><tr><td>0.0</td><td>2909.0</td><td>0.0</td><td>136.0</td><td>3321.0</td></tr><tr><td>0.0</td><td>2915.0</td><td>0.0</td><td>2810.0</td><td>3365.0</td></tr></tbody></table></div>"
      ],
      "text/plain": [
       "shape: (100, 5)\n",
       "┌───────────┬────────┬─────┬────────┬────────┐\n",
       "│ Time(sec) ┆ CH1    ┆ CH2 ┆ CH3    ┆ CH4    │\n",
       "│ ---       ┆ ---    ┆ --- ┆ ---    ┆ ---    │\n",
       "│ f64       ┆ f64    ┆ f64 ┆ f64    ┆ f64    │\n",
       "╞═══════════╪════════╪═════╪════════╪════════╡\n",
       "│ 0.0       ┆ 2934.0 ┆ 0.0 ┆ 2476.0 ┆ 3365.0 │\n",
       "│ 0.0       ┆ 2911.0 ┆ 0.0 ┆ 3073.0 ┆ 3289.0 │\n",
       "│ 0.0       ┆ 2930.0 ┆ 0.0 ┆ 3209.0 ┆ 3321.0 │\n",
       "│ 0.0       ┆ 2917.0 ┆ 0.0 ┆ 3587.0 ┆ 3209.0 │\n",
       "│ 0.0       ┆ 2917.0 ┆ 0.0 ┆ 3959.0 ┆ 3241.0 │\n",
       "│ …         ┆ …      ┆ …   ┆ …      ┆ …      │\n",
       "│ 0.0       ┆ 2909.0 ┆ 0.0 ┆ 2810.0 ┆ 3587.0 │\n",
       "│ 0.0       ┆ 2921.0 ┆ 0.0 ┆ 476.0  ┆ 3587.0 │\n",
       "│ 0.0       ┆ 2932.0 ┆ 0.0 ┆ 216.0  ┆ 3619.0 │\n",
       "│ 0.0       ┆ 2909.0 ┆ 0.0 ┆ 136.0  ┆ 3321.0 │\n",
       "│ 0.0       ┆ 2915.0 ┆ 0.0 ┆ 2810.0 ┆ 3365.0 │\n",
       "└───────────┴────────┴─────┴────────┴────────┘"
      ]
     },
     "execution_count": 31,
     "metadata": {},
     "output_type": "execute_result"
    }
   ],
   "source": [
    "a = module.read_continuous(100, 200)\n",
    "a"
   ]
  },
  {
   "cell_type": "code",
   "execution_count": 32,
   "id": "e0cf0caf",
   "metadata": {},
   "outputs": [
    {
     "data": {
      "text/plain": [
       "<matplotlib.legend.Legend at 0x7fff1725d050>"
      ]
     },
     "execution_count": 32,
     "metadata": {},
     "output_type": "execute_result"
    },
    {
     "data": {
      "image/png": "[encoded data removed]",
      "text/plain": [
       "<Figure size 640x480 with 1 Axes>"
      ]
     },
     "metadata": {},
     "output_type": "display_data"
    }
   ],
   "source": [
    "plt.scatter(a[\"Time(sec)\"], a[\"CH1\"], label=\"CH1\")\n",
    "plt.scatter(a[\"Time(sec)\"], a[\"CH2\"], label=\"CH2\")\n",
    "plt.scatter(a[\"Time(sec)\"], a[\"CH3\"], label=\"CH3\")\n",
    "plt.scatter(a[\"Time(sec)\"], a[\"CH4\"], label=\"CH4\")\n",
    "plt.legend()"
   ]
  },
  {
   "cell_type": "code",
   "execution_count": null,
   "id": "3d0f7724",
   "metadata": {},
   "outputs": [],
   "source": []
  },
  {
   "cell_type": "code",
   "execution_count": null,
   "id": "ef82a78a",
   "metadata": {},
   "outputs": [],
   "source": []
  },
  {
   "cell_type": "code",
   "execution_count": null,
   "id": "1d4d9c78",
   "metadata": {},
   "outputs": [],
   "source": []
  },
  {
   "cell_type": "code",
   "execution_count": null,
   "id": "2617880b",
   "metadata": {},
   "outputs": [],
   "source": []
  },
  {
   "cell_type": "code",
   "execution_count": null,
   "id": "a918267b",
   "metadata": {},
   "outputs": [],
   "source": []
  },
  {
   "cell_type": "code",
   "execution_count": null,
   "id": "5dd8ace2",
   "metadata": {},
   "outputs": [],
   "source": []
  },
  {
   "cell_type": "code",
   "execution_count": null,
   "id": "9afac332",
   "metadata": {},
   "outputs": [],
   "source": []
  },
  {
   "cell_type": "code",
   "execution_count": null,
   "id": "6ccd047a",
   "metadata": {},
   "outputs": [],
   "source": []
  },
  {
   "cell_type": "code",
   "execution_count": null,
   "id": "ba35c9db",
   "metadata": {},
   "outputs": [],
   "source": []
  },
  {
   "cell_type": "code",
   "execution_count": null,
   "id": "207c379a",
   "metadata": {},
   "outputs": [],
   "source": []
  },
  {
   "cell_type": "code",
   "execution_count": null,
   "id": "b808bac0",
   "metadata": {},
   "outputs": [],
   "source": []
  },
  {
   "cell_type": "code",
   "execution_count": null,
   "id": "e6694c77",
   "metadata": {},
   "outputs": [],
   "source": []
  },
  {
   "cell_type": "code",
   "execution_count": null,
   "id": "5c9e6cc8",
   "metadata": {},
   "outputs": [],
   "source": []
  },
  {
   "cell_type": "code",
   "execution_count": null,
   "id": "0e0e95a6",
   "metadata": {},
   "outputs": [],
   "source": []
  },
  {
   "cell_type": "code",
   "execution_count": null,
   "id": "2cd11ba1",
   "metadata": {},
   "outputs": [],
   "source": []
  },
  {
   "cell_type": "code",
   "execution_count": null,
   "id": "fed42601",
   "metadata": {},
   "outputs": [],
   "source": []
  }
 ],
 "metadata": {
  "kernelspec": {
   "display_name": ".venv",
   "language": "python",
   "name": "python3"
  },
  "language_info": {
   "codemirror_mode": {
    "name": "ipython",
    "version": 3
   },
   "file_extension": ".py",
   "mimetype": "text/x-python",
   "name": "python",
   "nbconvert_exporter": "python",
   "pygments_lexer": "ipython3",
   "version": "3.11.2"
  }
 },
 "nbformat": 4,
 "nbformat_minor": 5
}
