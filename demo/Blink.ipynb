{
 "cells": [
  {
   "cell_type": "code",
   "execution_count": 1,
   "id": "60d039ea-2921-4fb9-985a-22832e322a3c",
   "metadata": {},
   "outputs": [],
   "source": [
    "import numpy as np\n",
    "from raspecio import basic\n",
    "from multiprocessing import Process"
   ]
  },
  {
   "cell_type": "code",
   "execution_count": 2,
   "id": "4ad67df6",
   "metadata": {},
   "outputs": [],
   "source": [
    "def led_blink_GPIO12():\n",
    "    for i in range(100):\n",
    "        basic.blink_single(pin_id=12, on_time=(100-i)*100, off_time=i*100, n_cycles=4, unit=\"usec\")\n",
    "    for i in range(100):\n",
    "        basic.blink_single(pin_id=12, on_time=i*100, off_time=(100-i)*100, n_cycles=4, unit=\"usec\")\n",
    "    for i in range(100):\n",
    "        basic.blink_single(pin_id=12, on_time=(100-i)*100, off_time=i*100, n_cycles=2, unit=\"usec\")"
   ]
  },
  {
   "cell_type": "code",
   "execution_count": 3,
   "id": "269ce614",
   "metadata": {},
   "outputs": [],
   "source": [
    "def led_blink_GPIO16():\n",
    "    for i in range(100):\n",
    "        basic.blink_single(pin_id=16, on_time=(100-i)*100, off_time=i*100, n_cycles=2, unit=\"usec\")\n",
    "    for i in range(100):\n",
    "        basic.blink_single(pin_id=16, on_time=i*100, off_time=(100-i)*100, n_cycles=2, unit=\"usec\")\n",
    "    for i in range(100):\n",
    "        basic.blink_single(pin_id=16, on_time=(100-i)*100, off_time=i*100, n_cycles=2, unit=\"usec\")\n",
    "    for i in range(100):\n",
    "        basic.blink_single(pin_id=16, on_time=i*100, off_time=(100-i)*100, n_cycles=2, unit=\"usec\")\n",
    "    for i in range(100):\n",
    "        basic.blink_single(pin_id=16, on_time=(100-i)*100, off_time=i*100, n_cycles=2, unit=\"usec\")"
   ]
  },
  {
   "cell_type": "code",
   "execution_count": 4,
   "id": "e3c9e047-64df-4c09-86eb-f8dda38b88e4",
   "metadata": {},
   "outputs": [],
   "source": [
    "def led_blink_GPIO21():\n",
    "    for i in range(100):\n",
    "        basic.blink_single(pin_id=21, on_time=(100-i)*100, off_time=i*100, n_cycles=10, unit=\"usec\")"
   ]
  },
  {
   "cell_type": "code",
   "execution_count": 5,
   "id": "39754da1-facf-4d7b-a521-a967c90b6350",
   "metadata": {},
   "outputs": [],
   "source": [
    "t12=Process(target=led_blink_GPIO12)\n",
    "t16=Process(target=led_blink_GPIO16)\n",
    "t21=Process(target=led_blink_GPIO21)\n",
    "t12.start()\n",
    "t16.start()\n",
    "t21.start()\n",
    "t12.join()\n",
    "t16.join()\n",
    "t21.join()"
   ]
  },
  {
   "cell_type": "code",
   "execution_count": 6,
   "id": "78c13a10",
   "metadata": {},
   "outputs": [],
   "source": [
    "for i in range(100):\n",
    "    basic.blink_multiple(pin_ids=[12, 16, 21], on_time=(100-i)*100, off_time=i*100, n_cycles=10, unit=\"usec\")"
   ]
  },
  {
   "cell_type": "code",
   "execution_count": 7,
   "id": "d5f89737",
   "metadata": {},
   "outputs": [
    {
     "data": {
      "text/plain": [
       "array([5.00000000e+01, 6.56016723e+01, 7.96453965e+01, 9.07287976e+01,\n",
       "       9.77451121e+01, 9.99937064e+01, 9.72500409e+01, 8.97880920e+01,\n",
       "       7.83529932e+01, 6.40866278e+01, 4.84136033e+01, 3.28989928e+01,\n",
       "       1.90920507e+01, 8.37150727e+00, 1.80789207e+00, 5.66330408e-02,\n",
       "       3.29260699e+00, 1.11926768e+01, 2.29679591e+01, 3.74426006e+01,\n",
       "       5.31711960e+01, 6.85831228e+01, 8.21393805e+01, 9.24862715e+01,\n",
       "       9.85905784e+01, 9.98427388e+01, 9.61177147e+01, 8.77874787e+01,\n",
       "       7.56838696e+01, 6.10155266e+01, 4.52471978e+01, 2.99534732e+01,\n",
       "       1.66615500e+01, 6.69872981e+00, 1.05987769e+00, 3.08076777e-01,\n",
       "       4.51840023e+00, 1.32704146e+01, 2.56901632e+01, 4.05374378e+01,\n",
       "       5.63296227e+01, 7.14897456e+01, 8.45039506e+01, 9.40726682e+01,\n",
       "       9.92403877e+01, 9.94910721e+01, 9.47996887e+01, 8.56347086e+01,\n",
       "       7.29113261e+01, 5.79000698e+01, 4.20999302e+01, 2.70886739e+01,\n",
       "       1.43652914e+01, 5.20031129e+00, 5.08927906e-01, 7.59612349e-01,\n",
       "       5.92733183e+00, 1.54960494e+01, 2.85102544e+01, 4.36703773e+01,\n",
       "       5.94625622e+01, 7.43098368e+01, 8.67295854e+01, 9.54815998e+01,\n",
       "       9.96919232e+01, 9.89401223e+01, 9.33012702e+01, 8.33384500e+01,\n",
       "       7.00465268e+01, 5.47528022e+01, 3.89844734e+01, 2.43161304e+01,\n",
       "       1.22125213e+01, 3.88228529e+00, 1.57261202e-01, 1.40942158e+00,\n",
       "       7.51372850e+00, 1.78606195e+01, 3.14168772e+01, 4.68288040e+01,\n",
       "       6.25573994e+01, 7.70320409e+01, 8.88073232e+01, 9.67073930e+01,\n",
       "       9.99433670e+01, 9.81921079e+01, 9.16284927e+01, 8.09079493e+01,\n",
       "       6.71010072e+01, 5.15863967e+01, 3.59133722e+01, 2.16470068e+01,\n",
       "       1.02119080e+01, 2.74995906e+00, 6.29361631e-03, 2.25488793e+00,\n",
       "       9.27120240e+00, 2.03546035e+01, 3.43983277e+01, 5.00000000e+01])"
      ]
     },
     "execution_count": 7,
     "metadata": {},
     "output_type": "execute_result"
    }
   ],
   "source": [
    "(np.sin(np.linspace(0, 100, 100) * 0.1 * np.pi) + 1) * 50"
   ]
  },
  {
   "cell_type": "code",
   "execution_count": 8,
   "id": "78255e66",
   "metadata": {},
   "outputs": [],
   "source": [
    "# duties = [100 - int(duty) for duty in np.sin(np.linspace(0, 100, 1000) * 0.5 * np.pi)]\n"
   ]
  },
  {
   "cell_type": "code",
   "execution_count": 9,
   "id": "b66f5406",
   "metadata": {},
   "outputs": [],
   "source": [
    "def pwm_GPIO12():\n",
    "    duties_GPIO12 = [int(duty) for duty in (np.sin(np.linspace(0, 100, 1000) * 0.1 * np.pi) + 1) * 50]\n",
    "    basic.pwm_single(pin_id=12, pitch=10, duties=duties_GPIO12, unit=\"msec\")\n",
    "def pwm_GPIO16():\n",
    "    duties_GPIO16 = [100 - int(duty) for duty in np.linspace(0, 100, 1000)]\n",
    "    basic.pwm_single(pin_id=16, pitch=10, duties=duties_GPIO16, unit=\"msec\")\n",
    "def pwm_GPIO20():\n",
    "    duties_GPIO20 = [int(duty) for duty in (np.sin(np.linspace(0, 100, 1000) * 0.5 * np.pi) + 1) * 50]\n",
    "    basic.pwm_single(pin_id=20, pitch=10, duties=duties_GPIO20, unit=\"msec\")\n",
    "def pwm_GPIO21():\n",
    "    duties_GPIO21 = [int(duty) for duty in np.linspace(0, 100, 100)] * 10\n",
    "    basic.pwm_single(pin_id=21, pitch=10, duties=duties_GPIO21, unit=\"msec\")\n"
   ]
  },
  {
   "cell_type": "code",
   "execution_count": 10,
   "id": "a526cab1",
   "metadata": {},
   "outputs": [],
   "source": [
    "t12=Process(target=pwm_GPIO12)\n",
    "t16=Process(target=pwm_GPIO16)\n",
    "t20=Process(target=pwm_GPIO20)\n",
    "t21=Process(target=pwm_GPIO21)\n",
    "t12.start()\n",
    "t16.start()\n",
    "t20.start()\n",
    "t21.start()\n",
    "t12.join()\n",
    "t16.join()\n",
    "t20.join()\n",
    "t21.join()"
   ]
  },
  {
   "cell_type": "code",
   "execution_count": null,
   "id": "c0c8c85b",
   "metadata": {},
   "outputs": [],
   "source": []
  }
 ],
 "metadata": {
  "kernelspec": {
   "display_name": ".venv",
   "language": "python",
   "name": "python3"
  },
  "language_info": {
   "codemirror_mode": {
    "name": "ipython",
    "version": 3
   },
   "file_extension": ".py",
   "mimetype": "text/x-python",
   "name": "python",
   "nbconvert_exporter": "python",
   "pygments_lexer": "ipython3",
   "version": "3.11.2"
  }
 },
 "nbformat": 4,
 "nbformat_minor": 5
}
