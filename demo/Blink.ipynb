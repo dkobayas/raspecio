{
 "cells": [
  {
   "cell_type": "code",
   "execution_count": 1,
   "id": "60d039ea-2921-4fb9-985a-22832e322a3c",
   "metadata": {},
   "outputs": [],
   "source": [
    "from raspecio import blink\n",
    "from multiprocessing import Process"
   ]
  },
  {
   "cell_type": "code",
   "execution_count": 5,
   "id": "4ad67df6",
   "metadata": {},
   "outputs": [],
   "source": [
    "def led_blink_GPIO12():\n",
    "    for i in range(100):\n",
    "        blink(pin_id=12, on_time=(100-i)*100, off_time=i*100, n_cycles=4, unit=\"usec\")\n",
    "    for i in range(100):\n",
    "        blink(pin_id=12, on_time=i*100, off_time=(100-i)*100, n_cycles=4, unit=\"usec\")\n",
    "    for i in range(100):\n",
    "        blink(pin_id=12, on_time=(100-i)*100, off_time=i*100, n_cycles=2, unit=\"usec\")"
   ]
  },
  {
   "cell_type": "code",
   "execution_count": 6,
   "id": "e3c9e047-64df-4c09-86eb-f8dda38b88e4",
   "metadata": {},
   "outputs": [],
   "source": [
    "def led_blink_GPIO13():\n",
    "    for i in range(100):\n",
    "        blink(pin_id=13, on_time=(100-i)*100, off_time=i*100, n_cycles=10, unit=\"usec\")"
   ]
  },
  {
   "cell_type": "code",
   "execution_count": 7,
   "id": "39754da1-facf-4d7b-a521-a967c90b6350",
   "metadata": {},
   "outputs": [],
   "source": [
    "t1=Process(target=led_blink_GPIO12)\n",
    "t2=Process(target=led_blink_GPIO13)\n",
    "t1.start()\n",
    "t2.start()\n",
    "t1.join()\n",
    "t2.join()"
   ]
  },
  {
   "cell_type": "code",
   "execution_count": null,
   "id": "fda4e186-f884-46a8-aaa3-9d195e638858",
   "metadata": {},
   "outputs": [],
   "source": []
  },
  {
   "cell_type": "code",
   "execution_count": null,
   "id": "06552ae9-1967-418d-9ef8-9ad53cf689ed",
   "metadata": {},
   "outputs": [],
   "source": []
  },
  {
   "cell_type": "code",
   "execution_count": null,
   "id": "3034198e-d721-474a-9bd6-3925ac65c96a",
   "metadata": {},
   "outputs": [],
   "source": []
  }
 ],
 "metadata": {
  "kernelspec": {
   "display_name": ".venv",
   "language": "python",
   "name": "python3"
  },
  "language_info": {
   "codemirror_mode": {
    "name": "ipython",
    "version": 3
   },
   "file_extension": ".py",
   "mimetype": "text/x-python",
   "name": "python",
   "nbconvert_exporter": "python",
   "pygments_lexer": "ipython3",
   "version": "3.11.2"
  }
 },
 "nbformat": 4,
 "nbformat_minor": 5
}
