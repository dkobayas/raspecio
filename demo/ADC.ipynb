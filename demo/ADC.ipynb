{
 "cells": [
  {
   "cell_type": "code",
   "execution_count": 1,
   "metadata": {},
   "outputs": [],
   "source": [
    "from raspecio import adc\n",
    "import matplotlib.pyplot as plt"
   ]
  },
  {
   "cell_type": "code",
   "execution_count": 2,
   "metadata": {},
   "outputs": [],
   "source": [
    "module_ads1015 = adc.ADS1015(0x48)"
   ]
  },
  {
   "cell_type": "code",
   "execution_count": 3,
   "metadata": {},
   "outputs": [
    {
     "name": "stdout",
     "output_type": "stream",
     "text": [
      "result: 16384\n",
      "[16384, 20480, 24576, 28672]\n",
      "result: 20480\n",
      "result: 24576\n",
      "result: 28672\n",
      "result: 16384\n",
      "[16384, 20480, 24576, 28672]\n",
      "result: 20480\n",
      "result: 24576\n",
      "result: 28672\n",
      "result: 16384\n",
      "[16384, 20480, 24576, 28672]\n",
      "result: 20480\n",
      "result: 24576\n",
      "result: 28672\n",
      "result: 16384\n",
      "[16384, 20480, 24576, 28672]\n",
      "result: 20480\n",
      "result: 24576\n",
      "result: 28672\n",
      "result: 16384\n",
      "result: 20480\n",
      "result: 24576\n",
      "result: 28672\n",
      "[16384, 20480, 24576, 28672]\n",
      "result: 16384\n",
      "result: 20480\n",
      "result: 24576\n",
      "result: 28672\n",
      "[16384, 20480, 24576, 28672]\n",
      "result: 16384\n",
      "result: 20480\n",
      "result: 24576\n",
      "result: 28672\n",
      "[16384, 20480, 24576, 28672]\n",
      "result: 16384\n",
      "result: 20480\n",
      "result: 24576\n",
      "result: 28672\n",
      "[16384, 20480, 24576, 28672]\n",
      "result: 16384\n",
      "[16384, 20480, 24576, 28672]\n",
      "result: 20480\n",
      "result: 24576\n",
      "result: 28672\n",
      "result: 16384\n",
      "result: 20480\n",
      "result: 24576\n",
      "result: 28672\n",
      "[16384, 20480, 24576, 28672]\n"
     ]
    }
   ],
   "source": [
    "for i in range(10):\n",
    "    print(module_ads1015.read_oneshot())\n",
    "    plt.pause(0.1)\n"
   ]
  },
  {
   "cell_type": "code",
   "execution_count": 7,
   "metadata": {},
   "outputs": [],
   "source": [
    "module = adc.MCP3204(spi_num=0)"
   ]
  },
  {
   "cell_type": "code",
   "execution_count": null,
   "metadata": {},
   "outputs": [],
   "source": [
    "a = module.read_continuous(100, 200)\n",
    "a"
   ]
  },
  {
   "cell_type": "code",
   "execution_count": null,
   "metadata": {},
   "outputs": [],
   "source": [
    "plt.scatter(a[\"Time(sec)\"], a[\"CH1\"], label=\"CH1\")\n",
    "plt.scatter(a[\"Time(sec)\"], a[\"CH2\"], label=\"CH2\")\n",
    "plt.scatter(a[\"Time(sec)\"], a[\"CH3\"], label=\"CH3\")\n",
    "plt.scatter(a[\"Time(sec)\"], a[\"CH4\"], label=\"CH4\")\n",
    "plt.legend()"
   ]
  }
 ],
 "metadata": {
  "kernelspec": {
   "display_name": ".venv",
   "language": "python",
   "name": "python3"
  },
  "language_info": {
   "codemirror_mode": {
    "name": "ipython",
    "version": 3
   },
   "file_extension": ".py",
   "mimetype": "text/x-python",
   "name": "python",
   "nbconvert_exporter": "python",
   "pygments_lexer": "ipython3",
   "version": "3.11.2"
  }
 },
 "nbformat": 4,
 "nbformat_minor": 2
}
